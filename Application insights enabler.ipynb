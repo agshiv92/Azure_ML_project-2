{
 "cells": [
  {
   "cell_type": "code",
   "execution_count": 7,
   "metadata": {},
   "outputs": [],
   "source": [
    "from azureml.core import Workspace\n",
    "from azureml.core.webservice import Webservice\n"
   ]
  },
  {
   "cell_type": "code",
   "execution_count": 8,
   "metadata": {},
   "outputs": [
    {
     "name": "stdout",
     "output_type": "stream",
     "text": [
      "2021-01-29T15:45:45,355474800+00:00 - gunicorn/run \n",
      "2021-01-29T15:45:45,361500200+00:00 - nginx/run \n",
      "2021-01-29T15:45:45,363155600+00:00 - rsyslog/run \n",
      "/usr/sbin/nginx: /azureml-envs/azureml_265db83b0c6014ce472c5de2f0b97e04/lib/libcrypto.so.1.0.0: no version information available (required by /usr/sbin/nginx)\n",
      "/usr/sbin/nginx: /azureml-envs/azureml_265db83b0c6014ce472c5de2f0b97e04/lib/libcrypto.so.1.0.0: no version information available (required by /usr/sbin/nginx)\n",
      "/usr/sbin/nginx: /azureml-envs/azureml_265db83b0c6014ce472c5de2f0b97e04/lib/libssl.so.1.0.0: no version information available (required by /usr/sbin/nginx)\n",
      "/usr/sbin/nginx: /azureml-envs/azureml_265db83b0c6014ce472c5de2f0b97e04/lib/libssl.so.1.0.0: no version information available (required by /usr/sbin/nginx)\n",
      "/usr/sbin/nginx: /azureml-envs/azureml_265db83b0c6014ce472c5de2f0b97e04/lib/libssl.so.1.0.0: no version information available (required by /usr/sbin/nginx)\n",
      "2021-01-29T15:45:45,396393800+00:00 - iot-server/run \n",
      "rsyslogd: /azureml-envs/azureml_265db83b0c6014ce472c5de2f0b97e04/lib/libuuid.so.1: no version information available (required by rsyslogd)\n",
      "Starting gunicorn 19.9.0\n",
      "Listening at: http://127.0.0.1:31311 (71)\n",
      "Using worker: sync\n",
      "worker timeout is set to 300\n",
      "Booting worker with pid: 97\n",
      "EdgeHubConnectionString and IOTEDGE_IOTHUBHOSTNAME are not set. Exiting...\n",
      "2021-01-29T15:45:47,075561200+00:00 - iot-server/finish 1 0\n",
      "2021-01-29T15:45:47,086022200+00:00 - Exit code 1 is normal. Not restarting iot-server.\n",
      "SPARK_HOME not set. Skipping PySpark Initialization.\n",
      "Generating new fontManager, this may take some time...\n",
      "Initializing logger\n",
      "2021-01-29 15:45:52,053 | root | INFO | Starting up app insights client\n",
      "2021-01-29 15:45:52,054 | root | INFO | Starting up request id generator\n",
      "2021-01-29 15:45:52,054 | root | INFO | Starting up app insight hooks\n",
      "2021-01-29 15:45:52,055 | root | INFO | Invoking user's init function\n",
      "2021-01-29 15:46:01,753 | azureml.core | WARNING | Failure while loading azureml_run_type_providers. Failed to load entrypoint automl = azureml.train.automl.run:AutoMLRun._from_run_dto with exception cannot import name 'RunType'.\n",
      "Failure while loading azureml_run_type_providers. Failed to load entrypoint automl = azureml.train.automl.run:AutoMLRun._from_run_dto with exception cannot import name 'RunType'.\n",
      "2021-01-29 15:46:02,390 | root | INFO | Users's init has completed successfully\n",
      "2021-01-29 15:46:02,446 | root | INFO | Skipping middleware: dbg_model_info as it's not enabled.\n",
      "2021-01-29 15:46:02,446 | root | INFO | Skipping middleware: dbg_resource_usage as it's not enabled.\n",
      "2021-01-29 15:46:02,449 | root | INFO | Scoring timeout is found from os.environ: 60000 ms\n",
      "2021-01-29 15:46:06,372 | root | INFO | 200\n",
      "127.0.0.1 - - [29/Jan/2021:15:46:06 +0000] \"GET /swagger.json HTTP/1.0\" 200 3250 \"-\" \"Go-http-client/1.1\"\n",
      "2021-01-29 15:49:32,305 | root | INFO | 200\n",
      "127.0.0.1 - - [29/Jan/2021:15:49:32 +0000] \"GET /swagger.json HTTP/1.0\" 200 3250 \"-\" \"Go-http-client/1.1\"\n",
      "2021-01-29 15:49:32,662 | root | INFO | 200\n",
      "127.0.0.1 - - [29/Jan/2021:15:49:32 +0000] \"GET /swagger.json HTTP/1.0\" 200 3250 \"-\" \"Go-http-client/1.1\"\n",
      "2021-01-29 16:00:45,726 | root | INFO | 200\n",
      "127.0.0.1 - - [29/Jan/2021:16:00:45 +0000] \"GET /swagger.json HTTP/1.0\" 200 3250 \"-\" \"Go-http-client/1.1\"\n",
      "2021-01-29 16:01:31,542 | root | INFO | 200\n",
      "127.0.0.1 - - [29/Jan/2021:16:01:31 +0000] \"GET /swagger.json HTTP/1.0\" 200 3250 \"-\" \"Go-http-client/1.1\"\n",
      "2021-01-29 16:03:36,061 | root | INFO | 200\n",
      "127.0.0.1 - - [29/Jan/2021:16:03:36 +0000] \"GET /swagger.json HTTP/1.0\" 200 3250 \"-\" \"Go-http-client/1.1\"\n",
      "2021-01-29 16:03:56,748 | root | INFO | 200\n",
      "127.0.0.1 - - [29/Jan/2021:16:03:56 +0000] \"GET /swagger.json HTTP/1.0\" 200 3250 \"-\" \"Go-http-client/1.1\"\n",
      "2021-01-29 16:03:57,138 | root | INFO | 200\n",
      "127.0.0.1 - - [29/Jan/2021:16:03:57 +0000] \"GET /swagger.json HTTP/1.0\" 200 3250 \"-\" \"Go-http-client/1.1\"\n",
      "2021-01-29 16:04:16,217 | root | INFO | 200\n",
      "127.0.0.1 - - [29/Jan/2021:16:04:16 +0000] \"GET /swagger.json HTTP/1.0\" 200 3250 \"-\" \"Go-http-client/1.1\"\n",
      "\n"
     ]
    }
   ],
   "source": [
    "%run logs.py"
   ]
  },
  {
   "cell_type": "code",
   "execution_count": null,
   "metadata": {},
   "outputs": [],
   "source": []
  }
 ],
 "metadata": {
  "kernelspec": {
   "display_name": "Python 3.6 - AzureML",
   "language": "python",
   "name": "python3-azureml"
  },
  "language_info": {
   "codemirror_mode": {
    "name": "ipython",
    "version": 3
   },
   "file_extension": ".py",
   "mimetype": "text/x-python",
   "name": "python",
   "nbconvert_exporter": "python",
   "pygments_lexer": "ipython3",
   "version": "3.6.9"
  }
 },
 "nbformat": 4,
 "nbformat_minor": 4
}
